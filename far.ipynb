{
 "cells": [
  {
   "cell_type": "code",
   "execution_count": 28,
   "id": "67c885c2-57d2-4cf4-b3b7-b2424a049943",
   "metadata": {},
   "outputs": [],
   "source": [
    "import configparser\n",
    "import os, argparse"
   ]
  },
  {
   "cell_type": "code",
   "execution_count": 40,
   "id": "0e0a6426-1470-457b-b1bd-41c2bcc9c369",
   "metadata": {},
   "outputs": [],
   "source": [
    "import rasterio\n",
    "import numpy as np\n",
    "from scipy.ndimage import distance_transform_edt\n",
    "import geopandas as gpd"
   ]
  },
  {
   "cell_type": "code",
   "execution_count": 50,
   "id": "985aa568-3954-4dd1-9b1f-d4e239436e97",
   "metadata": {},
   "outputs": [],
   "source": [
    "# get user inputs from config file:\n",
    "config_file = os.path.abspath(\"config.ini\")\n",
    "config = configparser.ConfigParser()\n",
    "config.read(config_file)\n",
    "config_dict = config['inputs']\n",
    "\n",
    "def _parse_args(args):\n",
    "    parser = argparse.ArgumentParser(\n",
    "        description=\"\",\n",
    "        epilog=\"\"\"\n",
    "            \"\"\",\n",
    "        formatter_class=argparse.RawDescriptionHelpFormatter\n",
    "    )\n",
    "    # parser.add_argument(\"-rd\", \"--remove_duplicates\", help=\"Removing duplicate geometries after merging?, default to True\", default=True)\n",
    "    \n",
    "    return parser.parse_args(args)\n"
   ]
  },
  {
   "cell_type": "code",
   "execution_count": 51,
   "id": "1c95385b-220c-4c85-b207-6acd050c5434",
   "metadata": {},
   "outputs": [],
   "source": [
    "##################################\n",
    "# Provide your inputs here\n",
    "##################################\n",
    "LOG_FILE = config_dict['log_file']\n",
    "road = config_dict['road']"
   ]
  },
  {
   "cell_type": "code",
   "execution_count": 53,
   "id": "b7cb86a0-5c48-4b84-b322-34ed24685714",
   "metadata": {},
   "outputs": [],
   "source": [
    "### store all the data into dataframe\n",
    "\n",
    "roads = gpd.read_file(road)"
   ]
  },
  {
   "cell_type": "code",
   "execution_count": null,
   "id": "f6886281-ab0c-4af8-91b7-c1beddae2ef7",
   "metadata": {},
   "outputs": [],
   "source": [
    "##################################\n",
    "# Provide a log to trace the process\n",
    "##################################\n",
    "import logging\n",
    "\n",
    "logging.basicConfig(filename=LOG_FILE, level=logging.INFO, format='%(asctime)s %(message)s', datefmt='%m/%d/%Y %I:%M:%S %p')\n",
    "logging.getLogger().addHandler(logging.StreamHandler())\n",
    "_str_decorator = \"=\" * 20\n",
    "logging.info(f\"\\n{_str_decorator} BEGINNING LOG {_str_decorator}\")"
   ]
  },
  {
   "cell_type": "code",
   "execution_count": 31,
   "id": "50cbef10-a294-49d8-8e1b-5dd79e7b2047",
   "metadata": {},
   "outputs": [],
   "source": [
    "def compute_deforestation(\n",
    "    forest_t1_path,\n",
    "    forest_t2_path,\n",
    "    output_path,\n",
    "    nodata=None\n",
    "):\n",
    "    \"\"\"\n",
    "    Compute deforestation: pixels that were forest in t1 but not forest in t2\n",
    "\n",
    "    Args:\n",
    "        forest_t1_path (str): Path to t1 forest raster\n",
    "        forest_t2_path (str): Path to t2 forest raster\n",
    "        output_path (str): Output raster path\n",
    "        nodata (int, float, optional): nodata value to mask (default: None)\n",
    "    \"\"\"\n",
    "    with rasterio.open(forest_t1_path) as src1, rasterio.open(forest_t2_path) as src2:\n",
    "        t1 = src1.read(1)\n",
    "        t2 = src2.read(1)\n",
    "        profile = src1.profile.copy()\n",
    "\n",
    "        if nodata is not None:\n",
    "            mask = (t1 == nodata) | (t2 == nodata)\n",
    "        else:\n",
    "            mask = np.zeros_like(t1, dtype=bool)\n",
    "\n",
    "        # Deforestation: forest in t1 (1), non-forest in t2 (0)\n",
    "        change = np.where((t1 == 1) & (t2 == 0) & ~mask, 1, 0).astype(\"uint8\")\n",
    "        if nodata is not None:\n",
    "            change[mask] = nodata\n",
    "            profile[\"nodata\"] = nodata\n",
    "\n",
    "        profile.update(dtype=\"uint8\", count=1)\n",
    "        with rasterio.open(output_path, \"w\", **profile) as dst:\n",
    "            dst.write(change, 1)\n",
    "\n",
    "    print(f\"Deforestation raster saved to {output_path}\")\n",
    "    return output_path\n",
    "    "
   ]
  },
  {
   "cell_type": "code",
   "execution_count": 35,
   "id": "9fe3c040-3a6a-4bcb-849d-d22db86cc4cf",
   "metadata": {},
   "outputs": [],
   "source": [
    "def euclidean_distance(\n",
    "    input_raster,\n",
    "    output_raster,\n",
    "    dist_meters=100 # distance unit to output\n",
    "):\n",
    "\n",
    "    \"\"\"\n",
    "    Calculates Euclidean distance to the nearest raster pixel and outputs distance in units of dist_meters\n",
    "    \n",
    "    Args:\n",
    "        input_raster (str): Path to geotiff\n",
    "        output_raster (str): Output raster path\n",
    "        dist_meters (float): Distance unit (e.g., 100 for 100m units)\n",
    "    \"\"\"\n",
    "\n",
    "    with rasterio.open(input_raster) as src:\n",
    "        mask = src.read(1)\n",
    "        profile = src.profile.copy()\n",
    "        pixel_size = src.transform[0]\n",
    "\n",
    "    invert_mask = (mask == 0).astype(np.uint8)\n",
    "    dist_pixels = distance_transform_edt(invert_mask)\n",
    "    dist_in_units = (dist_pixels * pixel_size) / dist_meters\n",
    "\n",
    "    profile.update(dtype='float32')\n",
    "    with rasterio.open(output_path, \"w\", **profile) as dst:\n",
    "        dst.write(dist_in_units.astype(\"float32\"), 1)\n",
    "\n",
    "    print(f\"Euclidean distance raster saved as {output_raster}\")\n",
    "    return output_path"
   ]
  },
  {
   "cell_type": "code",
   "execution_count": 33,
   "id": "1d1ae430-cb3a-426f-bc67-b0e46e053391",
   "metadata": {},
   "outputs": [
    {
     "name": "stdout",
     "output_type": "stream",
     "text": [
      "Deforestation raster saved to data/forest_cover_change_t23.tif\n"
     ]
    },
    {
     "data": {
      "text/plain": [
       "'data/forest_cover_change_t23.tif'"
      ]
     },
     "execution_count": 33,
     "metadata": {},
     "output_type": "execute_result"
    }
   ],
   "source": [
    "compute_deforestation(forest_cover_t1, forest_cover_t2, \"input/forest_cover_change_t12.tif\", nodata=None)\n",
    "compute_deforestation(forest_cover_t2, forest_cover_t3, \"input/forest_cover_change_t23.tif\", nodata=None)"
   ]
  },
  {
   "cell_type": "code",
   "execution_count": 38,
   "id": "0bb817ad-5108-4719-9146-f8613c859994",
   "metadata": {},
   "outputs": [
    {
     "name": "stdout",
     "output_type": "stream",
     "text": [
      "Eculidean distance raster saved as input/distance_forest_change_t12.tif\n"
     ]
    },
    {
     "data": {
      "text/plain": [
       "'intermediary/distance_from_forest_t1.tif'"
      ]
     },
     "execution_count": 38,
     "metadata": {},
     "output_type": "execute_result"
    }
   ],
   "source": [
    "euclidean_distance(\"input/forest_cover_change_t12.tif\", \"input/distance_forest_change_t12.tif\", 100)\n",
    "euclidean_distance(\"input/forest_cover_change_t23.tif\", \"input/distance_forest_change_t23.tif\", 100)"
   ]
  },
  {
   "cell_type": "code",
   "execution_count": 59,
   "id": "3094d127-2236-4760-9736-8fe0b05915bf",
   "metadata": {},
   "outputs": [
    {
     "ename": "IndentationError",
     "evalue": "unindent does not match any outer indentation level (Rasterize.py, line 13)",
     "output_type": "error",
     "traceback": [
      "Traceback \u001b[36m(most recent call last)\u001b[39m:\n",
      "  File \u001b[92mC:\\ProgramData\\miniconda3\\envs\\far\\Lib\\site-packages\\IPython\\core\\interactiveshell.py:3699\u001b[39m in \u001b[95mrun_code\u001b[39m\n    exec(code_obj, self.user_global_ns, self.user_ns)\n",
      "\u001b[36m  \u001b[39m\u001b[36mCell\u001b[39m\u001b[36m \u001b[39m\u001b[32mIn[59]\u001b[39m\u001b[32m, line 1\u001b[39m\n\u001b[31m    \u001b[39m\u001b[31mimport Rasterize\u001b[39m\n",
      "  \u001b[36mFile \u001b[39m\u001b[32mF:\\RESEARCH\\notebooks\\forecasting_deforestation\\Rasterize.py:13\u001b[39m\n\u001b[31m    \u001b[39m\u001b[31mgdf = gpd.read_file(shp_path)\u001b[39m\n                                 ^\n\u001b[31mIndentationError\u001b[39m\u001b[31m:\u001b[39m unindent does not match any outer indentation level\n"
     ]
    }
   ],
   "source": [
    "import Rasterize\n",
    "\n",
    "road_rasterizer = Rasterize(shp_path=road, target_crs=54304)\n",
    "\n",
    "road_rasterizer.rasterize(\"input/road.tif\", pixel_size=30)"
   ]
  },
  {
   "cell_type": "code",
   "execution_count": null,
   "id": "08699e70-414a-454d-a496-5585952911b3",
   "metadata": {},
   "outputs": [],
   "source": []
  }
 ],
 "metadata": {
  "kernelspec": {
   "display_name": "far",
   "language": "python",
   "name": "far"
  },
  "language_info": {
   "codemirror_mode": {
    "name": "ipython",
    "version": 3
   },
   "file_extension": ".py",
   "mimetype": "text/x-python",
   "name": "python",
   "nbconvert_exporter": "python",
   "pygments_lexer": "ipython3",
   "version": "3.11.13"
  },
  "widgets": {
   "application/vnd.jupyter.widget-state+json": {
    "state": {},
    "version_major": 2,
    "version_minor": 0
   }
  }
 },
 "nbformat": 4,
 "nbformat_minor": 5
}
