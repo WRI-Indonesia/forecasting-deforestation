{
 "cells": [
  {
   "cell_type": "code",
   "execution_count": 1,
   "id": "67c885c2-57d2-4cf4-b3b7-b2424a049943",
   "metadata": {},
   "outputs": [],
   "source": [
    "import configparser\n",
    "import os"
   ]
  },
  {
   "cell_type": "code",
   "execution_count": 2,
   "id": "985aa568-3954-4dd1-9b1f-d4e239436e97",
   "metadata": {},
   "outputs": [],
   "source": [
    "# get user inputs from config file:\n",
    "config_file = os.path.abspath(\"config.ini\")\n",
    "config = configparser.ConfigParser()\n",
    "config.read(config_file)\n",
    "input_dict = config['input']\n",
    "process_dict = config['process']\n",
    "output_dict = config['output']"
   ]
  },
  {
   "cell_type": "code",
   "execution_count": 3,
   "id": "1c95385b-220c-4c85-b207-6acd050c5434",
   "metadata": {},
   "outputs": [],
   "source": [
    "##################################\n",
    "# Read your input data from config file\n",
    "##################################\n",
    "aoi = os.path.join('input/', input_dict['aoi'])\n",
    "## Accessibility\n",
    "road = os.path.join('input/', input_dict['road'])\n",
    "settlement = os.path.join('input/', input_dict['settlement'])\n",
    "river = os.path.join('input/', input_dict['river'])\n",
    "\n",
    "## Topography\n",
    "elevation = os.path.join('input/', input_dict['elevation'])\n",
    "slope = os.path.join('input/', input_dict['slope'])\n",
    "\n",
    "## Forest or deforestation history\n",
    "forest_cover_t1 = os.path.join('input/', input_dict['forest_cover_t1'])\n",
    "forest_cover_t2 = os.path.join('input/', input_dict['forest_cover_t2'])\n",
    "forest_cover_t3 = os.path.join('input/', input_dict['forest_cover_t3'])\n",
    "\n",
    "## Land conservation status\n",
    "protected_area = os.path.join('input/', input_dict['protected_area'])"
   ]
  },
  {
   "cell_type": "code",
   "execution_count": 4,
   "id": "787e9da5-c512-4966-9a94-056ab2884c43",
   "metadata": {},
   "outputs": [],
   "source": [
    "# reload all modules automatically when changes happen\n",
    "%load_ext autoreload\n",
    "%autoreload 2"
   ]
  },
  {
   "cell_type": "code",
   "execution_count": 9,
   "id": "eededce5-3f9c-407f-9eeb-7fa82f082246",
   "metadata": {},
   "outputs": [],
   "source": [
    "##################################\n",
    "# Processing data. Read from process config file\n",
    "##################################\n",
    "\n",
    "road_process = os.path.join('process/', process_dict['road'])\n",
    "settlement_process = os.path.join('process/', process_dict['settlement'])\n",
    "forest_cover_change_t12 = os.path.join('process/', process_dict['forest_cover_change_t12'])\n",
    "forest_cover_change_t23 = os.path.join('process/', process_dict['forest_cover_change_t23'])\n",
    "\n",
    "distance_deforestation_t12 = os.path.join('process/', process_dict['distance_deforestation_t12'])\n",
    "distance_deforestation_t23 = os.path.join('process/', process_dict['distance_deforestation_t23'])\n",
    "\n",
    "distance_road = os.path.join('process/', process_dict['distance_road'])\n",
    "distance_river = os.path.join('process/', process_dict['distance_river'])"
   ]
  },
  {
   "cell_type": "code",
   "execution_count": 5,
   "id": "c6abd785-2d49-42f0-b041-cd16ecebcdf2",
   "metadata": {},
   "outputs": [
    {
     "name": "stderr",
     "output_type": "stream",
     "text": [
      "\n",
      "==================== BEGINNING LOG ====================\n"
     ]
    }
   ],
   "source": [
    "from models import ProcessingForecastDeforestation\n",
    "\n",
    "process = ProcessingForecastDeforestation(target_crs=32749)"
   ]
  },
  {
   "cell_type": "code",
   "execution_count": 10,
   "id": "504f3836-cb31-4e34-ab72-43a34cd825c2",
   "metadata": {},
   "outputs": [
    {
     "name": "stdout",
     "output_type": "stream",
     "text": [
      "CPU times: total: 0 ns\n",
      "Wall time: 0 ns\n"
     ]
    },
    {
     "name": "stderr",
     "output_type": "stream",
     "text": [
      "Clipped raster written: process/settlement.tif\n",
      "Process took -1752134395.05 seconds\n",
      "Raster written: process/road.tif (12154x3685, pixel size: 30 units)\n",
      "Process took -1752134390.27 seconds\n",
      "Deforestation raster saved to process/forest_cover_change_t12.tif\n",
      "Process took -1752134406.40 seconds\n",
      "Deforestation raster saved to process/forest_cover_change_t23.tif\n",
      "Process took -1752134413.62 seconds\n"
     ]
    },
    {
     "data": {
      "text/plain": [
       "'process/forest_cover_change_t23.tif'"
      ]
     },
     "execution_count": 10,
     "metadata": {},
     "output_type": "execute_result"
    }
   ],
   "source": [
    "##################################\n",
    "# Run the process. Initialize the input model\n",
    "##################################\n",
    "\n",
    "%time\n",
    "process.clip_raster_to_aoi(settlement, aoi, settlement_process)\n",
    "process.rasterize(road, road_process)\n",
    "process.compute_deforestation(forest_cover_t1, forest_cover_t2, forest_cover_change_t12, nodata=None)\n",
    "process.compute_deforestation(forest_cover_t2, forest_cover_t3, forest_cover_change_t23, nodata=None)"
   ]
  },
  {
   "cell_type": "code",
   "execution_count": 11,
   "id": "ac4c25e4-0f94-4c98-aacb-029400c27fac",
   "metadata": {
    "scrolled": true
   },
   "outputs": [],
   "source": [
    "### Compute the Euclidean Distance as a means of estimating the probability of deforestation\n",
    "\n",
    "#### Read the paper refence here: https://joss.theoj.org/papers/10.21105/joss.02975"
   ]
  },
  {
   "cell_type": "code",
   "execution_count": null,
   "id": "764e8115-ae79-48a4-a905-ed3f2b6828f9",
   "metadata": {},
   "outputs": [],
   "source": [
    "%time\n",
    "\n",
    "process.euclidean_distance(road_process, distance_road, 100)\n",
    "process.euclidean_distance(forest_cover_change_t12, distance_deforestation_t12, 100)\n",
    "process.euclidean_distance(forest_cover_change_t23, distance_deforestation_t23\", 100)"
   ]
  },
  {
   "cell_type": "code",
   "execution_count": null,
   "id": "16fb9f37-c32e-4824-8227-d97d967024a1",
   "metadata": {},
   "outputs": [],
   "source": []
  }
 ],
 "metadata": {
  "kernelspec": {
   "display_name": "far",
   "language": "python",
   "name": "far"
  },
  "language_info": {
   "codemirror_mode": {
    "name": "ipython",
    "version": 3
   },
   "file_extension": ".py",
   "mimetype": "text/x-python",
   "name": "python",
   "nbconvert_exporter": "python",
   "pygments_lexer": "ipython3",
   "version": "3.11.13"
  },
  "widgets": {
   "application/vnd.jupyter.widget-state+json": {
    "state": {},
    "version_major": 2,
    "version_minor": 0
   }
  }
 },
 "nbformat": 4,
 "nbformat_minor": 5
}
